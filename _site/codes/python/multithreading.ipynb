{
 "cells": [
  {
   "cell_type": "markdown",
   "metadata": {},
   "source": [
    "# Python Multithreading\n",
    "\n",
    "\n",
    "Copyright (c) 2016-2017 Duc Nguyen. Released under GPLv3.\n",
    "\n",
    "Note:\n",
    "- *This script is written for Python 3.5. Other Python verions may not work as expected.*\n",
    "- *Each code block is independent from each other, to run an example, just run a code block, you don't need to run from top to bottom*"
   ]
  },
  {
   "cell_type": "markdown",
   "metadata": {
    "collapsed": true
   },
   "source": [
    "## Create new thread\n",
    "\n",
    "New thread can easily be created by initiating a new `threading.Thread` instance. There are two ways to initiate and run a thread:\n",
    "\n",
    "- Define a function and assign that function to parameter `target` of the new thread, then run the Thread by calling its `start()` method. If the assigned function takes any arguments, include those arguments inside a tuple and assign that tuple to `args`\n",
    "- Subclass `Thread.run()`, initiate that subclass and then run that subclass with `.start()`. Calling `.start()` will execute the thread's `run()`"
   ]
  },
  {
   "cell_type": "code",
   "execution_count": 4,
   "metadata": {
    "collapsed": false
   },
   "outputs": [
    {
     "name": "stdout",
     "output_type": "stream",
     "text": [
      "Thread 1 (initialized from DummyTrhead) - 0\n",
      "Thread 0 - 0\n",
      "Thread 1 (initialized from DummyTrhead) - 1\n",
      "Thread 0 - 1\n",
      "Thread 1 (initialized from DummyTrhead) - 2\n",
      "Thread 1 (initialized from DummyTrhead) - 3\n",
      "Thread 1 (initialized from DummyTrhead) - 4\n"
     ]
    }
   ],
   "source": [
    "import threading\n",
    "import time\n",
    "\n",
    "def worker(thread_name, counter):\n",
    "    \"\"\" Print the thread name every 1 second for *counter* times \"\"\"\n",
    "    for _idx in range(counter):\n",
    "        time.sleep(1)\n",
    "        print(\"{} - {}\".format(thread_name, _idx))\n",
    "\n",
    "class DummyThread(threading.Thread):\n",
    "    def __init__(self, name, counter):\n",
    "        super(DummyThread, self).__init__()\n",
    "        self.name = name\n",
    "        self.counter = counter\n",
    "    def run(self):\n",
    "        for _idx in range(self.counter):\n",
    "            time.sleep(1)\n",
    "            print(\"{} (initialized from DummyThread) - {}\".format(self.name, _idx))\n",
    "            \n",
    "# Create thread0 by assigning function to `target`, and assign the parameters to function through `args`\n",
    "thread0 = threading.Thread(target=worker, args=(\"Thread 0\", 2))\n",
    "thread0.start()\n",
    "\n",
    "# Create thread1 by initialize DummyThread\n",
    "thread1 = DummyThread(\"Thread 1\", 5)\n",
    "thread1.start()"
   ]
  },
  {
   "cell_type": "markdown",
   "metadata": {},
   "source": [
    "### Threads can also be created and started from other working threads\n",
    "\n",
    "In the below example, a thread named \"Inside thread\" is created from \"Thread 0\". Notice that even though \"Inside thread\" is created inside \"Thread 0\", \"Thread 0\" can actually terminates before \"Inside thread\". An intuition can be obtained from this is that each thread can be considered as an independent code execution."
   ]
  },
  {
   "cell_type": "code",
   "execution_count": 5,
   "metadata": {
    "collapsed": false,
    "scrolled": true
   },
   "outputs": [
    {
     "name": "stdout",
     "output_type": "stream",
     "text": [
      "Thread 0 is running\n",
      "Creating a new thread from Thread 0...\n",
      "Thread 0 is exitting...\n",
      "Inside thread - 0\n",
      "Inside thread - 1\n",
      "Inside thread - 2\n",
      "Inside thread - 3\n",
      "Inside thread - 4\n",
      "Inside thread is exitting...\n"
     ]
    }
   ],
   "source": [
    "import threading\n",
    "import time\n",
    "\n",
    "def worker(thread_name, counter):\n",
    "    \"\"\" Print the thread name every 1 second for *counter* times \"\"\"\n",
    "    for _idx in range(counter):\n",
    "        time.sleep(1)\n",
    "        print(\"{} - {}\".format(thread_name, _idx))\n",
    "    print(\"{} is exitting...\".format(thread_name))\n",
    "\n",
    "class DummyThread(threading.Thread):\n",
    "    \n",
    "    def __init__(self, name, counter):\n",
    "        super(DummyThread, self).__init__()\n",
    "        self.name = name\n",
    "\n",
    "    def run(self):\n",
    "        print(\"{} is running\".format(self.name))\n",
    "        print(\"Creating a new thread from {}...\".format(self.name))\n",
    "        thread1 = threading.Thread(target=worker, args=(\"Inside thread\", 5))\n",
    "        thread1.start()\n",
    "        print(\"{} is exitting...\".format(self.name))\n",
    "            \n",
    "# Create thread0 by initialize DummyThread\n",
    "thread0 = DummyThread(\"Thread 0\", 5)\n",
    "thread0.start()"
   ]
  },
  {
   "cell_type": "markdown",
   "metadata": {},
   "source": [
    "## Data sharing between threads\n",
    "\n",
    "Spawned threads can access data from thread that defines them. As a result, to share data between threads, just create that mutual data inside the scope that defines all involving threads (e.g the main thread)\n",
    "\n",
    "#### Example 1:"
   ]
  },
  {
   "cell_type": "code",
   "execution_count": 15,
   "metadata": {
    "collapsed": false
   },
   "outputs": [
    {
     "name": "stdout",
     "output_type": "stream",
     "text": [
      "Thread 0 - arbitrary_data: 1 (worker thread can access global variables)\n",
      "Thread 1 - arbitrary_data: 2 (worker thread can access global variables)\n"
     ]
    }
   ],
   "source": [
    "import threading\n",
    "\n",
    "arbitrary_data = 1\n",
    "\n",
    "def worker(thread_name):\n",
    "    \"\"\" Print the thread name and the value of global's arbitrary_data \"\"\"\n",
    "    print(\"{} - arbitrary_data: {} (worker thread can access global variables)\".format(thread_name, arbitrary_data))\n",
    "\n",
    "    \n",
    "thread0 = threading.Thread(target=worker, args=(\"Thread 0\",))\n",
    "thread0.start()\n",
    "\n",
    "# Increment arbitrary_data from global scope\n",
    "arbitrary_data += 1\n",
    "thread1 = threading.Thread(target=worker, args=(\"Thread 1\",))\n",
    "thread1.start()"
   ]
  },
  {
   "cell_type": "markdown",
   "metadata": {},
   "source": [
    "#### Example 2:\n",
    "\n",
    "The DummyThread0_child is defined inside global scope (since `worker()` is defined as a global function). As a result, DummyThread0_child accesses `arbitrary_data` from global scope, rather than from `DummyThread0` scope.\n",
    "\n",
    "The DummyThread1_child is defined inside `DummyThread1` scope (since `worker()` is defined as a local function). As a result, DummyThread1_child will first try to access `arbitrary_data` from its local scope.\n",
    "\n",
    "The DummyThread2_child is defined inside `DummyThread2` scope. As a result, DummyThread2_child will first try to access `arbitrary_data` from its local scope. However, since `DummyThread2.run` does not have `arbitrary_data` in its local namespace, DummyThread2_child then tries to find `arbitrary_data` in the parent scope of `DummyThread2`."
   ]
  },
  {
   "cell_type": "code",
   "execution_count": 23,
   "metadata": {
    "collapsed": false
   },
   "outputs": [
    {
     "name": "stdout",
     "output_type": "stream",
     "text": [
      "DummyThread0_child - Arbitrary data: data from main thread\n",
      "DummyThread1_child - Arbitrary data: data from non-main thread\n",
      "DummyThread2_child - Arbitrary data: data from main thread\n"
     ]
    }
   ],
   "source": [
    "import threading\n",
    "\n",
    "arbitrary_data = \"data from main thread\"\n",
    "\n",
    "def worker(thread_name):\n",
    "    \"\"\" Print the thread name and the value of arbitrary_data \"\"\"\n",
    "    print(\"{} - Arbitrary data: {}\".format(thread_name, arbitrary_data))\n",
    "    \n",
    "class DummyThread0(threading.Thread):\n",
    "    \n",
    "    def __init__(self, name):\n",
    "        super(DummyThread0, self).__init__()\n",
    "        self.name = name\n",
    "\n",
    "    def run(self):\n",
    "        arbitrary_data = \"data from non-main thread\" \n",
    "        dummythread0_child = threading.Thread(target=worker, args=(\"DummyThread0_child\",))\n",
    "        dummythread0_child.start()\n",
    "    \n",
    "    \n",
    "class DummyThread1(threading.Thread):\n",
    "    \n",
    "    def __init__(self, name):\n",
    "        super(DummyThread1, self).__init__()\n",
    "        self.name = name\n",
    "\n",
    "    def run(self):\n",
    "        arbitrary_data = \"data from non-main thread\"\n",
    "        \n",
    "        # worker definition is the only difference between DummyThread0 and DummyThread1\n",
    "        def worker(thread_name):\n",
    "            \"\"\" Print the thread name and the value of arbitrary_data \"\"\"\n",
    "            print(\"{} - Arbitrary data: {}\".format(thread_name, arbitrary_data))\n",
    "        \n",
    "        dummythread1_child = threading.Thread(target=worker, args=(\"DummyThread1_child\",))\n",
    "        dummythread1_child.start()\n",
    "        \n",
    "class DummyThread2(threading.Thread):\n",
    "    \n",
    "    def __init__(self, name):\n",
    "        super(DummyThread2, self).__init__()\n",
    "        self.name = name\n",
    "\n",
    "    def run(self):        \n",
    "        \n",
    "        # does not have local arbitrary_data\n",
    "        \n",
    "        def worker(thread_name):\n",
    "            \"\"\" Print the thread name and the value of arbitrary_data \"\"\"\n",
    "            print(\"{} - Arbitrary data: {}\".format(thread_name, arbitrary_data))\n",
    "        \n",
    "        dummythread2_child = threading.Thread(target=worker, args=(\"DummyThread2_child\",))\n",
    "        dummythread2_child.start()\n",
    "        \n",
    "\n",
    "thread0 = DummyThread0(\"Thread 0\")\n",
    "thread0.start()\n",
    "\n",
    "thread1 = DummyThread1(\"Thread 1\")\n",
    "thread1.start()\n",
    "\n",
    "thread2 = DummyThread2(\"Thread 2\")\n",
    "thread2.start()"
   ]
  },
  {
   "cell_type": "markdown",
   "metadata": {},
   "source": [
    "### Shared primitive data cannot be modified by worker threads\n",
    "\n",
    "Worker threads cannot modify primitive data from the parent scope (just like function). Attempt to do so will create a thread-local variable, or will raise an UnboundLocalError."
   ]
  },
  {
   "cell_type": "code",
   "execution_count": 24,
   "metadata": {
    "collapsed": false
   },
   "outputs": [
    {
     "name": "stdout",
     "output_type": "stream",
     "text": [
      "UnboundLocalError was raised\n",
      "Thread set - Set arbitrary data to 10\n",
      "arbitrary_data from main thread: 1\n"
     ]
    }
   ],
   "source": [
    "import threading\n",
    "\n",
    "arbitrary_data = 1\n",
    "\n",
    "def worker_increment(thread_name):\n",
    "    \"\"\" Modify arbitrary data \"\"\"\n",
    "    try:\n",
    "        arbitrary_data += 1\n",
    "        print(\"{} - Arbitrary data: {}\".format(thread_name, arbitrary_data))\n",
    "    except UnboundLocalError:\n",
    "        print(\"UnboundLocalError was raised\")\n",
    "        \n",
    "def worker(thread_name):\n",
    "    \"\"\" Set the arbitrary data \"\"\"\n",
    "    arbitrary_data = 10\n",
    "    print(\"{} - Set arbitrary data to {}\".format(thread_name, arbitrary_data))\n",
    "        \n",
    "thread0 = threading.Thread(target=worker_increment, args=(\"Thread increment\",))\n",
    "thread0.start()\n",
    "\n",
    "thread1 = threading.Thread(target=worker, args=(\"Thread set\",))\n",
    "thread1.start()\n",
    "\n",
    "# Temporarily block the main thread until both thread0 and thread1 terminate\n",
    "thread0.join()\n",
    "thread1.join()\n",
    "\n",
    "print(\"arbitrary_data from main thread: {}\".format(arbitrary_data))"
   ]
  },
  {
   "cell_type": "markdown",
   "metadata": {},
   "source": [
    "### Shared objects can be modified by worker threads\n",
    "\n",
    "Worker threads can access and modify object data from parent scope (just like function)."
   ]
  },
  {
   "cell_type": "code",
   "execution_count": 28,
   "metadata": {
    "collapsed": false
   },
   "outputs": [
    {
     "name": "stdout",
     "output_type": "stream",
     "text": [
      "Len arbitrary_data before: 0\n",
      "Len arbitrary_data after: 1\n",
      "(Worker thread) Length arbitrary_data: 1\n"
     ]
    }
   ],
   "source": [
    "import threading\n",
    "\n",
    "arbitrary_data = []\n",
    "\n",
    "def worker_append(thread_name, value):\n",
    "    \"\"\" Append `value` to `arbitrary_data` \"\"\"\n",
    "    arbitrary_data.append(value)\n",
    "    \n",
    "def worker_len():\n",
    "    \"\"\" Check the length of `arbitrary_data \"\"\"\n",
    "    print(\"(Worker thread) Length arbitrary_data: {}\".format(len(arbitrary_data)))\n",
    "\n",
    "print(\"Length arbitrary_data before: {}\".format(len(arbitrary_data)))\n",
    "thread0 = threading.Thread(target=worker_append, args=(\"Thread append\", 1))\n",
    "thread0.start()\n",
    "\n",
    "# Temporarily block main thread until thread0 terminates\n",
    "thread0.join()\n",
    "print(\"Length arbitrary_data after: {}\".format(len(arbitrary_data)))\n",
    "\n",
    "thread1 = threading.Thread(target=worker_len)\n",
    "thread1.start()"
   ]
  },
  {
   "cell_type": "markdown",
   "metadata": {},
   "source": [
    "## Thread synchronization"
   ]
  },
  {
   "cell_type": "code",
   "execution_count": null,
   "metadata": {
    "collapsed": true
   },
   "outputs": [],
   "source": []
  },
  {
   "cell_type": "code",
   "execution_count": null,
   "metadata": {
    "collapsed": true
   },
   "outputs": [],
   "source": []
  },
  {
   "cell_type": "code",
   "execution_count": null,
   "metadata": {
    "collapsed": true
   },
   "outputs": [],
   "source": []
  },
  {
   "cell_type": "markdown",
   "metadata": {},
   "source": [
    "## Other helper functions\n",
    "\n",
    "### Determine the current threads"
   ]
  },
  {
   "cell_type": "code",
   "execution_count": null,
   "metadata": {
    "collapsed": true
   },
   "outputs": [],
   "source": [
    "import threading\n",
    "import time\n",
    "\n",
    "def worker(thread_name):\n",
    "    \"\"\" Print the thread name and the value of global's arbitrary_data \"\"\"\n",
    "    print(\"{} - arbitrary_data: {}\".format(thread_name, arbitrary_data))\n",
    "\n",
    "def worker_set(thread_name):\n",
    "    \"\"\" Print the thread name and change the value of global's primitive arbitrary_data \"\"\"\n",
    "    try:\n",
    "        arbitrary_data += 10\n",
    "        print(\"{} - arbitrary_data: {}\".format(thread_name, arbitrary_data))\n",
    "    except UnboundLocalError:\n",
    "        print(\"arbitrary_data does not have local scope, {} fails\".format(thread_name))"
   ]
  }
 ],
 "metadata": {
  "anaconda-cloud": {},
  "kernelspec": {
   "display_name": "Python [conda env:py35]",
   "language": "python",
   "name": "conda-env-py35-py"
  },
  "language_info": {
   "codemirror_mode": {
    "name": "ipython",
    "version": 3
   },
   "file_extension": ".py",
   "mimetype": "text/x-python",
   "name": "python",
   "nbconvert_exporter": "python",
   "pygments_lexer": "ipython3",
   "version": "3.5.2"
  }
 },
 "nbformat": 4,
 "nbformat_minor": 1
}
