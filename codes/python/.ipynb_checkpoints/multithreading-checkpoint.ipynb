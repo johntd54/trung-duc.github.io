{
 "cells": [
  {
   "cell_type": "markdown",
   "metadata": {},
   "source": [
    "# Python Multithreading\n",
    "\n",
    "\n",
    "Copyright (c) 2016-2017 Duc Nguyen. Released under GPLv3.\n",
    "\n",
    "Note:\n",
    "- *This script is written for Python 3.5. Other Python verions may not work as expected.*\n",
    "- *Each code block is independent from each other, to run an example, just run a code block, you don't need to run from top to bottom*\n",
    "\n",
    "Content:\n",
    "- Create new thread\n",
    "- Data sharing between threads\n",
    "- Threads synchronization\n",
    "    + Events\n",
    "    + Lock\n",
    "    + Barrier\n",
    "    + Condition\n",
    "    + Semaphore\n",
    "- Helper functions"
   ]
  },
  {
   "cell_type": "markdown",
   "metadata": {
    "collapsed": true
   },
   "source": [
    "## Create new thread\n",
    "\n",
    "New thread can easily be created by initiating a new `threading.Thread` instance. There are two ways to initiate and run a thread:\n",
    "\n",
    "- Define a function and assign that function to parameter `target` of the new thread, then run the Thread by calling its `start()` method. If the assigned function takes any arguments, include those arguments inside a tuple and assign that tuple to `args`\n",
    "- Subclass `Thread.run()`, initiate that subclass and then run that subclass with `.start()`. Calling `.start()` will execute the thread's `run()`"
   ]
  },
  {
   "cell_type": "code",
   "execution_count": 4,
   "metadata": {
    "collapsed": false
   },
   "outputs": [
    {
     "name": "stdout",
     "output_type": "stream",
     "text": [
      "Thread 1 (initialized from DummyTrhead) - 0\n",
      "Thread 0 - 0\n",
      "Thread 1 (initialized from DummyTrhead) - 1\n",
      "Thread 0 - 1\n",
      "Thread 1 (initialized from DummyTrhead) - 2\n",
      "Thread 1 (initialized from DummyTrhead) - 3\n",
      "Thread 1 (initialized from DummyTrhead) - 4\n"
     ]
    }
   ],
   "source": [
    "import threading\n",
    "import time\n",
    "\n",
    "def worker(thread_name, counter):\n",
    "    \"\"\" Print the thread name every 1 second for *counter* times \"\"\"\n",
    "    for _idx in range(counter):\n",
    "        time.sleep(1)\n",
    "        print(\"{} - {}\".format(thread_name, _idx))\n",
    "\n",
    "class DummyThread(threading.Thread):\n",
    "    def __init__(self, name, counter):\n",
    "        super(DummyThread, self).__init__()\n",
    "        self.name = name\n",
    "        self.counter = counter\n",
    "    def run(self):\n",
    "        for _idx in range(self.counter):\n",
    "            time.sleep(1)\n",
    "            print(\"{} (initialized from DummyThread) - {}\".format(self.name, _idx))\n",
    "            \n",
    "# Create thread0 by assigning function to `target`, and assign the parameters to function through `args`\n",
    "thread0 = threading.Thread(target=worker, args=(\"Thread 0\", 2))\n",
    "thread0.start()\n",
    "\n",
    "# Create thread1 by initialize DummyThread\n",
    "thread1 = DummyThread(\"Thread 1\", 5)\n",
    "thread1.start()"
   ]
  },
  {
   "cell_type": "markdown",
   "metadata": {},
   "source": [
    "### Threads can also be created and started from other working threads\n",
    "\n",
    "In the below example, a thread named \"Inside thread\" is created from \"Thread 0\". Notice that even though \"Inside thread\" is created inside \"Thread 0\", \"Thread 0\" can actually terminates before \"Inside thread\". An intuition can be obtained from this is that each thread can be considered as an independent code execution."
   ]
  },
  {
   "cell_type": "code",
   "execution_count": 5,
   "metadata": {
    "collapsed": false,
    "scrolled": true
   },
   "outputs": [
    {
     "name": "stdout",
     "output_type": "stream",
     "text": [
      "Thread 0 is running\n",
      "Creating a new thread from Thread 0...\n",
      "Thread 0 is exitting...\n",
      "Inside thread - 0\n",
      "Inside thread - 1\n",
      "Inside thread - 2\n",
      "Inside thread - 3\n",
      "Inside thread - 4\n",
      "Inside thread is exitting...\n"
     ]
    }
   ],
   "source": [
    "import threading\n",
    "import time\n",
    "\n",
    "def worker(thread_name, counter):\n",
    "    \"\"\" Print the thread name every 1 second for *counter* times \"\"\"\n",
    "    for _idx in range(counter):\n",
    "        time.sleep(1)\n",
    "        print(\"{} - {}\".format(thread_name, _idx))\n",
    "    print(\"{} is exitting...\".format(thread_name))\n",
    "\n",
    "class DummyThread(threading.Thread):\n",
    "    \n",
    "    def __init__(self, name, counter):\n",
    "        super(DummyThread, self).__init__()\n",
    "        self.name = name\n",
    "\n",
    "    def run(self):\n",
    "        print(\"{} is running\".format(self.name))\n",
    "        print(\"Creating a new thread from {}...\".format(self.name))\n",
    "        thread1 = threading.Thread(target=worker, args=(\"Inside thread\", 5))\n",
    "        thread1.start()\n",
    "        print(\"{} is exitting...\".format(self.name))\n",
    "            \n",
    "# Create thread0 by initialize DummyThread\n",
    "thread0 = DummyThread(\"Thread 0\", 5)\n",
    "thread0.start()"
   ]
  },
  {
   "cell_type": "markdown",
   "metadata": {},
   "source": [
    "## Data sharing between threads\n",
    "\n",
    "Spawned threads can access data from thread that defines them. As a result, to share data between threads, just create that mutual data inside the scope that defines all involving threads (e.g the main thread)\n",
    "\n",
    "#### Example 1:"
   ]
  },
  {
   "cell_type": "code",
   "execution_count": 15,
   "metadata": {
    "collapsed": false
   },
   "outputs": [
    {
     "name": "stdout",
     "output_type": "stream",
     "text": [
      "Thread 0 - arbitrary_data: 1 (worker thread can access global variables)\n",
      "Thread 1 - arbitrary_data: 2 (worker thread can access global variables)\n"
     ]
    }
   ],
   "source": [
    "import threading\n",
    "\n",
    "arbitrary_data = 1\n",
    "\n",
    "def worker(thread_name):\n",
    "    \"\"\" Print the thread name and the value of global's arbitrary_data \"\"\"\n",
    "    print(\"{} - arbitrary_data: {} (worker thread can access global variables)\".format(thread_name, arbitrary_data))\n",
    "\n",
    "    \n",
    "thread0 = threading.Thread(target=worker, args=(\"Thread 0\",))\n",
    "thread0.start()\n",
    "\n",
    "# Increment arbitrary_data from global scope\n",
    "arbitrary_data += 1\n",
    "thread1 = threading.Thread(target=worker, args=(\"Thread 1\",))\n",
    "thread1.start()"
   ]
  },
  {
   "cell_type": "markdown",
   "metadata": {},
   "source": [
    "#### Example 2:\n",
    "\n",
    "The DummyThread0_child is defined inside global scope (since `worker()` is defined as a global function). As a result, DummyThread0_child accesses `arbitrary_data` from global scope, rather than from `DummyThread0` scope.\n",
    "\n",
    "The DummyThread1_child is defined inside `DummyThread1` scope (since `worker()` is defined as a local function). As a result, DummyThread1_child will first try to access `arbitrary_data` from its local scope.\n",
    "\n",
    "The DummyThread2_child is defined inside `DummyThread2` scope. As a result, DummyThread2_child will first try to access `arbitrary_data` from its local scope. However, since `DummyThread2.run` does not have `arbitrary_data` in its local namespace, DummyThread2_child then tries to find `arbitrary_data` in the parent scope of `DummyThread2`."
   ]
  },
  {
   "cell_type": "code",
   "execution_count": 23,
   "metadata": {
    "collapsed": false
   },
   "outputs": [
    {
     "name": "stdout",
     "output_type": "stream",
     "text": [
      "DummyThread0_child - Arbitrary data: data from main thread\n",
      "DummyThread1_child - Arbitrary data: data from non-main thread\n",
      "DummyThread2_child - Arbitrary data: data from main thread\n"
     ]
    }
   ],
   "source": [
    "import threading\n",
    "\n",
    "arbitrary_data = \"data from main thread\"\n",
    "\n",
    "def worker(thread_name):\n",
    "    \"\"\" Print the thread name and the value of arbitrary_data \"\"\"\n",
    "    print(\"{} - Arbitrary data: {}\".format(thread_name, arbitrary_data))\n",
    "    \n",
    "class DummyThread0(threading.Thread):\n",
    "    \n",
    "    def __init__(self, name):\n",
    "        super(DummyThread0, self).__init__()\n",
    "        self.name = name\n",
    "\n",
    "    def run(self):\n",
    "        arbitrary_data = \"data from non-main thread\" \n",
    "        dummythread0_child = threading.Thread(target=worker, args=(\"DummyThread0_child\",))\n",
    "        dummythread0_child.start()\n",
    "    \n",
    "    \n",
    "class DummyThread1(threading.Thread):\n",
    "    \n",
    "    def __init__(self, name):\n",
    "        super(DummyThread1, self).__init__()\n",
    "        self.name = name\n",
    "\n",
    "    def run(self):\n",
    "        arbitrary_data = \"data from non-main thread\"\n",
    "        \n",
    "        # worker definition is the only difference between DummyThread0 and DummyThread1\n",
    "        def worker(thread_name):\n",
    "            \"\"\" Print the thread name and the value of arbitrary_data \"\"\"\n",
    "            print(\"{} - Arbitrary data: {}\".format(thread_name, arbitrary_data))\n",
    "        \n",
    "        dummythread1_child = threading.Thread(target=worker, args=(\"DummyThread1_child\",))\n",
    "        dummythread1_child.start()\n",
    "        \n",
    "class DummyThread2(threading.Thread):\n",
    "    \n",
    "    def __init__(self, name):\n",
    "        super(DummyThread2, self).__init__()\n",
    "        self.name = name\n",
    "\n",
    "    def run(self):        \n",
    "        \n",
    "        # does not have local arbitrary_data\n",
    "        \n",
    "        def worker(thread_name):\n",
    "            \"\"\" Print the thread name and the value of arbitrary_data \"\"\"\n",
    "            print(\"{} - Arbitrary data: {}\".format(thread_name, arbitrary_data))\n",
    "        \n",
    "        dummythread2_child = threading.Thread(target=worker, args=(\"DummyThread2_child\",))\n",
    "        dummythread2_child.start()\n",
    "        \n",
    "\n",
    "thread0 = DummyThread0(\"Thread 0\")\n",
    "thread0.start()\n",
    "\n",
    "thread1 = DummyThread1(\"Thread 1\")\n",
    "thread1.start()\n",
    "\n",
    "thread2 = DummyThread2(\"Thread 2\")\n",
    "thread2.start()"
   ]
  },
  {
   "cell_type": "markdown",
   "metadata": {},
   "source": [
    "### Shared primitive data cannot be modified by worker threads\n",
    "\n",
    "Worker threads cannot modify primitive data from the parent scope (just like function). Attempt to do so will create a thread-local variable, or will raise an UnboundLocalError."
   ]
  },
  {
   "cell_type": "code",
   "execution_count": 24,
   "metadata": {
    "collapsed": false
   },
   "outputs": [
    {
     "name": "stdout",
     "output_type": "stream",
     "text": [
      "UnboundLocalError was raised\n",
      "Thread set - Set arbitrary data to 10\n",
      "arbitrary_data from main thread: 1\n"
     ]
    }
   ],
   "source": [
    "import threading\n",
    "\n",
    "arbitrary_data = 1\n",
    "\n",
    "def worker_increment(thread_name):\n",
    "    \"\"\" Modify arbitrary data \"\"\"\n",
    "    try:\n",
    "        arbitrary_data += 1\n",
    "        print(\"{} - Arbitrary data: {}\".format(thread_name, arbitrary_data))\n",
    "    except UnboundLocalError:\n",
    "        print(\"UnboundLocalError was raised\")\n",
    "        \n",
    "def worker(thread_name):\n",
    "    \"\"\" Set the arbitrary data \"\"\"\n",
    "    arbitrary_data = 10\n",
    "    print(\"{} - Set arbitrary data to {}\".format(thread_name, arbitrary_data))\n",
    "        \n",
    "thread0 = threading.Thread(target=worker_increment, args=(\"Thread increment\",))\n",
    "thread0.start()\n",
    "\n",
    "thread1 = threading.Thread(target=worker, args=(\"Thread set\",))\n",
    "thread1.start()\n",
    "\n",
    "# Temporarily block the main thread until both thread0 and thread1 terminate\n",
    "thread0.join()\n",
    "thread1.join()\n",
    "\n",
    "print(\"arbitrary_data from main thread: {}\".format(arbitrary_data))"
   ]
  },
  {
   "cell_type": "markdown",
   "metadata": {},
   "source": [
    "### Shared objects can be modified by worker threads\n",
    "\n",
    "Worker threads can access and modify object data from parent scope (just like function)."
   ]
  },
  {
   "cell_type": "code",
   "execution_count": 28,
   "metadata": {
    "collapsed": false
   },
   "outputs": [
    {
     "name": "stdout",
     "output_type": "stream",
     "text": [
      "Len arbitrary_data before: 0\n",
      "Len arbitrary_data after: 1\n",
      "(Worker thread) Length arbitrary_data: 1\n"
     ]
    }
   ],
   "source": [
    "import threading\n",
    "\n",
    "arbitrary_data = []\n",
    "\n",
    "def worker_append(thread_name, value):\n",
    "    \"\"\" Append `value` to `arbitrary_data` \"\"\"\n",
    "    arbitrary_data.append(value)\n",
    "    \n",
    "def worker_len():\n",
    "    \"\"\" Check the length of `arbitrary_data \"\"\"\n",
    "    print(\"(Worker thread) Length arbitrary_data: {}\".format(len(arbitrary_data)))\n",
    "\n",
    "print(\"Length arbitrary_data before: {}\".format(len(arbitrary_data)))\n",
    "thread0 = threading.Thread(target=worker_append, args=(\"Thread append\", 1))\n",
    "thread0.start()\n",
    "\n",
    "# Temporarily block main thread until thread0 terminates\n",
    "thread0.join()\n",
    "print(\"Length arbitrary_data after: {}\".format(len(arbitrary_data)))\n",
    "\n",
    "thread1 = threading.Thread(target=worker_len)\n",
    "thread1.start()"
   ]
  },
  {
   "cell_type": "markdown",
   "metadata": {},
   "source": [
    "## Thread synchronization\n",
    "\n",
    "### Events\n",
    "\n",
    "The idea: several threads share the same `Event` object. This `Event` object in its core is just a boolean value that has `.set()`, `.clear()`, `.wait()` methods. `.set()` will set the value of `Event` object to True, `.clear()` will set the value of `Event` objet to False. Whenever a thread has `Event.wait()`, and the value of `Event` object at that time is False, then that thread will stop until the value of that object is True (probably by other running threads). If the thread has `Event.wait()`, and the value of `Event` object at that time is True, then that thread continues to run as normal"
   ]
  },
  {
   "cell_type": "code",
   "execution_count": 7,
   "metadata": {
    "collapsed": false
   },
   "outputs": [
    {
     "name": "stdout",
     "output_type": "stream",
     "text": [
      "Worker thread is started\n",
      "Initially the event flag is false, and worker thread has event.wait() so the code in worker thread is stuck at wait(). It will not do anything until event is set to True\n",
      "Main thread: setting event to true with .set()\n",
      "Worker thread is running: 0\n",
      "Worker thread is running: 1\n",
      "Worker thread is running: 2\n",
      "Worker thread is running: 3\n",
      "Main thread: setting event to false with .clear(). Worker thread should pause now\n",
      "Worker thread is running: 4\n",
      "Main thread: reset event to True\n",
      "Worker thread is running: 5\n",
      "Worker thread is running: 6\n",
      "Worker thread is running: 7\n",
      "Worker thread is running: 8\n",
      "Worker thread is running: 9\n",
      "Worker thread is exitting...\n"
     ]
    }
   ],
   "source": [
    "import threading\n",
    "import time\n",
    "\n",
    "def worker(ev):\n",
    "    \"\"\" Count and print \"\"\"\n",
    "    for _idx in range(10):\n",
    "        ev.wait()\n",
    "        time.sleep(1)\n",
    "        print(\"Worker thread is running: {}\".format(_idx))\n",
    "    print(\"Worker thread is exitting...\")\n",
    "\n",
    "event = threading.Event()\n",
    "        \n",
    "thread0 = threading.Thread(target=worker, args=(event,))\n",
    "thread0.start()\n",
    "\n",
    "print(\"Worker thread is started\")\n",
    "print(\"Initially the event flag is false, and worker thread has event.wait() \"\n",
    "      \"so the code in worker thread is stuck at wait(). It will not do anything\"\n",
    "      \" until event is set to True\")\n",
    "time.sleep(2)\n",
    "\n",
    "event.set()\n",
    "print(\"Main thread: setting event to true with .set()\")\n",
    "time.sleep(5)\n",
    "\n",
    "event.clear()\n",
    "print(\"Main thread: setting event to false with .clear(). Worker thread should pause now\")\n",
    "time.sleep(10)\n",
    "\n",
    "event.set()\n",
    "print(\"Main thread: reset event to True\")"
   ]
  },
  {
   "cell_type": "markdown",
   "metadata": {
    "collapsed": true
   },
   "source": [
    "### Lock\n",
    "\n",
    "The idea: several threads share the same `Lock` object. A `Lock` object can be either of the two states: locked (set by `.acquire()`) or unlocked (set by `.release()`). When a lock is unlocked, and a thread calls `.acquire()`, the lock changes to locked and other threads can not acquire that lock until the current thread `.release()` the lock. When a lock is already locked, and a thread calls `.acquire()`, that thread will pause until the thread that currently has the lock releases it.\n",
    "\n",
    "This mechanism is useful to deal with race condition (e.g. to avoid several threads modifying a data object at the same time, acquire a lock before modifying that object and release that lock when finishes modifying the object -> this way only 1 thread can access the data object at a single time)\n",
    "\n",
    "Lock can also be used in context manager. Given the below code, change put the code between `lock.acquire()` and `lock.release()` inside `with lock:`"
   ]
  },
  {
   "cell_type": "code",
   "execution_count": 10,
   "metadata": {
    "collapsed": false
   },
   "outputs": [
    {
     "name": "stdout",
     "output_type": "stream",
     "text": [
      "Master: put 0\n",
      "    Worker: get 0\n",
      "Master: put 1\n",
      "    Worker: get 1\n",
      "Master: put 2\n",
      "    Worker: get 2\n",
      "Master: put 3\n",
      "    Worker: get 3\n",
      "Master: put 4\n",
      "    Worker: get 4\n",
      "Master: put 5\n",
      "    Worker: get 5\n",
      "Master: put 6\n",
      "    Worker: get 6\n",
      "Master: put 7\n",
      "    Worker: get 7\n",
      "Master: put 8\n",
      "    Worker: get 8\n",
      "Master: put 9\n",
      "    Worker: get 9\n"
     ]
    }
   ],
   "source": [
    "import threading\n",
    "import time\n",
    "import queue\n",
    "\n",
    "tasks = queue.Queue(10)\n",
    "\n",
    "def worker(lock):\n",
    "    \"\"\" Get the task and print it \"\"\"\n",
    "    for _idx in range(10):\n",
    "        time.sleep(1)\n",
    "        lock.acquire()\n",
    "        print(\"    Worker: get {}\".format(tasks.get()))\n",
    "        lock.release()\n",
    "\n",
    "def master(lock):\n",
    "    \"\"\" Add task to the tasks queue \"\"\"\n",
    "    for _idx in range(10):\n",
    "        time.sleep(0.5)\n",
    "        lock.acquire()\n",
    "        print(\"Master: put {}\".format(_idx))\n",
    "        tasks.put(_idx)\n",
    "        lock.release()\n",
    "        \n",
    "lock = threading.Lock()\n",
    "\n",
    "thread0 = threading.Thread(target=master, args=(lock,))\n",
    "thread0.start()\n",
    "\n",
    "thread1 = threading.Thread(target=worker, args=(lock,))\n",
    "thread1.start()"
   ]
  },
  {
   "cell_type": "markdown",
   "metadata": {},
   "source": [
    "### Condition\n",
    "\n",
    "The condition variable is like a combination of lock and event. The basic idea is to set up blocks of code that only 1 thread can run at a time (like lock), but to allow one thread to intentionally pause until another thread allows the former to continue (like event)."
   ]
  },
  {
   "cell_type": "markdown",
   "metadata": {},
   "source": [
    "### Barrier\n",
    "\n",
    "Barrier is used to make threads started at different time synchronize with each other. Specifically, threads are blocked until the barrier condition is satisfied. After that, all blocked threads run as normal."
   ]
  },
  {
   "cell_type": "markdown",
   "metadata": {},
   "source": [
    "### Semaphore\n",
    "\n",
    "Semaphore is used to limit the number of concurrent threads accessing a common resource. Basic idea: put the resource inside a semaphore inside thread function, if the number of threads accessing that object is equal to the semaphore value, then other threads trying to access that resources will temporarily be blocked until the number of threads decreases below the semaphore level."
   ]
  },
  {
   "cell_type": "markdown",
   "metadata": {},
   "source": [
    "## Helper functions\n",
    "\n",
    "### Determine the current threads\n",
    "\n",
    "To get the thread object the current piece of code is working on, use the helper function `threading.current_thread()`. This function will return the thread object that calls this function."
   ]
  },
  {
   "cell_type": "code",
   "execution_count": 2,
   "metadata": {
    "collapsed": false
   },
   "outputs": [
    {
     "name": "stdout",
     "output_type": "stream",
     "text": [
      "Worker thread: <Thread(Thread-5, started 123145330724864)>\n",
      "Main thread: <_MainThread(MainThread, started 140735226400768)>\n",
      "Worker thread: <Thread(Thread-6, started 123145330724864)>\n"
     ]
    }
   ],
   "source": [
    "import threading\n",
    "import time\n",
    "\n",
    "def worker():\n",
    "    \"\"\" Just print the current thread \"\"\"\n",
    "    print(\"Worker thread: {}\".format(threading.current_thread()))\n",
    "    \n",
    "thread0 = threading.Thread(target=worker)\n",
    "thread0.start()\n",
    "\n",
    "thread0.join()\n",
    "print(\"Main thread: {}\".format(threading.current_thread()))\n",
    "\n",
    "thread1 = threading.Thread(target=worker)\n",
    "thread1.start()"
   ]
  },
  {
   "cell_type": "markdown",
   "metadata": {},
   "source": [
    "### Mark a thread as daemon\n",
    "\n",
    "By default, any thread specifically created by `threading.Thread` is non-daemon. A program cannot exit when any non-daemon thread is still working. On the other hand, daemon threads will automatically terminate if the program exits. This makes daemon threads appropriate for trivial tasks that can be done in parallel. To make a thread daemon, set `daemon` parameter/attribute to True."
   ]
  },
  {
   "cell_type": "code",
   "execution_count": 6,
   "metadata": {
    "collapsed": false
   },
   "outputs": [
    {
     "name": "stdout",
     "output_type": "stream",
     "text": [
      "This code never terminates, but it is in a daemon thread, so whenever the program exits, this thread will also terminate\n",
      "This code is not in a daemon thread, whenever this code terminates, and no non-daemon thread running, the program exits\n",
      "Daemon, 1\n",
      "Daemon, 2\n",
      "Daemon, 3\n",
      "Daemon, 4\n"
     ]
    }
   ],
   "source": [
    "# NOTE: do not run this script inside jupyter notebook, because there will always be non-daemon thread running\n",
    "\n",
    "import threading\n",
    "import time\n",
    "\n",
    "def worker(infinite):\n",
    "    \"\"\" Run infinitely or not \"\"\"\n",
    "    if infinite:\n",
    "        print(\"This code never terminates, but it is in a daemon thread, so \"\n",
    "              \"whenever the program exits, this thread will also terminate\")\n",
    "        _idx = 0\n",
    "        while True:\n",
    "            _idx += 1\n",
    "            time.sleep(1)\n",
    "            print(\"Daemon, {}\".format(_idx))\n",
    "    else:\n",
    "        print(\"This code is not in a daemon thread, whenever this code terminates\"\n",
    "              \", and no non-daemon thread running, the program exits\")\n",
    "        for _idx in range(5):\n",
    "            time.sleep(1)\n",
    "            \n",
    "thread0 = threading.Thread(target=worker, args=(True,), daemon=True)\n",
    "thread0.start()\n",
    "\n",
    "thread1 = threading.Thread(target=worker, args=(False,))\n",
    "thread1.start()"
   ]
  },
  {
   "cell_type": "markdown",
   "metadata": {
    "collapsed": true
   },
   "source": [
    "### Enumerate all active threads\n",
    "\n",
    "You can enumerate all active threads using `threading.enumerate()`. This function will return a list of all active threads (including the thread that calling `threading.enumerate()`"
   ]
  },
  {
   "cell_type": "code",
   "execution_count": 2,
   "metadata": {
    "collapsed": false
   },
   "outputs": [
    {
     "name": "stdout",
     "output_type": "stream",
     "text": [
      "Name: MainThread, daemon: False\n",
      "Name: Thread-2, daemon: True\n",
      "Name: Thread 0, daemon: False\n",
      "Name: Thread-1, daemon: True\n",
      "Name: IPythonHistorySavingThread, daemon: True\n",
      "Name: Thread-3, daemon: True\n",
      "Name: Thread 1, daemon: False\n"
     ]
    }
   ],
   "source": [
    "import threading\n",
    "import time\n",
    "\n",
    "class DummyThread(threading.Thread):\n",
    "    def __init__(self, name):\n",
    "        super(DummyThread, self).__init__()\n",
    "        self.name = name        \n",
    "    def run(self):\n",
    "        for _idx in range(10):\n",
    "            time.sleep(1)\n",
    "            \n",
    "thread0 = DummyThread(\"Thread 0\")\n",
    "thread0.start()\n",
    "\n",
    "thread1 = DummyThread(\"Thread 1\")\n",
    "thread1.start()\n",
    "\n",
    "# Enumerate all active threads\n",
    "# If run from notebook, this will print some daemon threads used by Jupyter\n",
    "for _thread in threading.enumerate():\n",
    "    print(\"Name: {}, daemon: {}\".format(_thread.name, _thread.daemon))"
   ]
  },
  {
   "cell_type": "markdown",
   "metadata": {
    "collapsed": true
   },
   "source": [
    "# Timer\n",
    "\n",
    "A built-in subclass of `threading.Thread`, `threading.Timer` will execute its `.run()` method after a specialized amount of time.\n",
    "\n",
    "The example below will run "
   ]
  },
  {
   "cell_type": "code",
   "execution_count": 4,
   "metadata": {
    "collapsed": false
   },
   "outputs": [
    {
     "name": "stdout",
     "output_type": "stream",
     "text": [
      "Hello, World!\n",
      "Hello, World!\n",
      "Hello, World!\n",
      "Hello, World!\n",
      "Hello, World!\n",
      "Hello, World!\n",
      "6\n"
     ]
    }
   ],
   "source": [
    "import threading\n",
    "import time\n",
    "\n",
    "cont = True\n",
    "l = []\n",
    "\n",
    "def worker():\n",
    "    \"\"\" Print \"\"\"\n",
    "    print(\"Hello, World!\")\n",
    "    l.append(\"a\")\n",
    "    if cont:\n",
    "        thread = threading.Timer(5, worker)\n",
    "        thread.start()\n",
    "    \n",
    "thread0 = threading.Timer(5, worker)\n",
    "thread0.start()\n",
    "\n",
    "time.sleep(30)\n",
    "cont = False\n",
    "time.sleep(6)\n",
    "print(\"`worker()` is executed {} times\".format(len(l)))"
   ]
  },
  {
   "cell_type": "code",
   "execution_count": null,
   "metadata": {
    "collapsed": true
   },
   "outputs": [],
   "source": []
  }
 ],
 "metadata": {
  "anaconda-cloud": {},
  "kernelspec": {
   "display_name": "Python [conda env:py35]",
   "language": "python",
   "name": "conda-env-py35-py"
  },
  "language_info": {
   "codemirror_mode": {
    "name": "ipython",
    "version": 3
   },
   "file_extension": ".py",
   "mimetype": "text/x-python",
   "name": "python",
   "nbconvert_exporter": "python",
   "pygments_lexer": "ipython3",
   "version": "3.5.2"
  }
 },
 "nbformat": 4,
 "nbformat_minor": 1
}
