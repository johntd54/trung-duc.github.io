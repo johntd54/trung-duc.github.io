{
 "cells": [
  {
   "cell_type": "markdown",
   "metadata": {},
   "source": [
    "# Python Protobuf API\n",
    "\n",
    "\n",
    "Duc Nguyen.\n",
    "\n",
    "Note:\n",
    "\n",
    "- *This script is written in Python 3.5 and uses protobuf 3.1.0. Other versions may not work as expected*\n",
    "- *Each code block is independent from each other, to run an example, just run a code block, you don't need to run from top to bottom*\n",
    "\n",
    "The example Proto schema is listed below. You should copy this proto schema and paste it inside an `addressbook.proto` file, stored in the directory that this notebook is stored."
   ]
  },
  {
   "cell_type": "raw",
   "metadata": {},
   "source": [
    "package tutorial;\n",
    "\n",
    "message Person {\n",
    "  required string name = 1;\n",
    "  required int32 id = 2;\n",
    "  optional string email = 3;\n",
    "\n",
    "  enum PhoneType {\n",
    "    MOBILE = 0;\n",
    "    HOME = 1;\n",
    "    WORK = 2;\n",
    "  }\n",
    "\n",
    "  message PhoneNumber {\n",
    "    required string number = 1;\n",
    "    optional PhoneType type = 2 [default = HOME];\n",
    "  }\n",
    "\n",
    "  repeated PhoneNumber phone = 4;\n",
    "}\n",
    "\n",
    "message AddressBook {\n",
    "  repeated Person person = 1;\n",
    "}"
   ]
  },
  {
   "cell_type": "markdown",
   "metadata": {
    "collapsed": true
   },
   "source": [
    "## Create Proto data\n",
    "\n",
    "The Protobuf schema above (stored as addressbook.proto), will be used to generate a Python-friendly class holder (schema). To generate Python-friendly class holder, run this in the terminal:\n",
    "\n",
    "`protoc -I=$SRC_DIR --python_out=$DST_DIR $SRC_DIR/addressbook.proto`\n",
    "\n",
    "with SRC_DIR is the source directory that contains addressbook.proto, and DST_DIR is the destination for the Python-friendly class holder. This Python-friendly class holder will be saved as `addressbook_pb2.py` so that it can be easily imported by any Python script.\n",
    "\n",
    "This Python-friendly class holder (schema) will then be used to serialize data. Note that this Python-friendly schema is **not** the data, but instead it is the schema (structure) of the data.\n",
    "\n",
    "The code below will use the Python-friendly schema `addressbook_pb2.py` to create new data entry, and store that entry into a file called `book0`.\n",
    "\n",
    "So:\n",
    "\n",
    "- `addressbook.proto` is general Protobuf schema (which can be used by multiple programming languages)\n",
    "- `addressbook_pb2.py` is the Python-friendly schema\n",
    "- `book0` is the serialized file where the actual data stored. In this case, `book0` is an AddressBook that contains multiple Person entries. If you want to create another AddressBook, just create a new serialized file and store that address book in that file."
   ]
  },
  {
   "cell_type": "code",
   "execution_count": 2,
   "metadata": {
    "collapsed": true
   },
   "outputs": [],
   "source": [
    "import addressbook_pb2\n",
    "\n",
    "address_book = addressbook_pb2.AddressBook()\n",
    "\n",
    "person = address_book.person.add()\n",
    "person.id = 1234\n",
    "person.name = \"John Doe\"\n",
    "person.email = \"jdoe@example.com\"\n",
    "phone = person.phone.add()\n",
    "phone.number = \"555-4321\"\n",
    "phone.type = addressbook_pb2.Person.HOME\n",
    "\n",
    "f = open(\"book0\", \"wb\")\n",
    "f.write(address_book.SerializeToString())\n",
    "f.close()"
   ]
  },
  {
   "cell_type": "markdown",
   "metadata": {},
   "source": [
    "## Add Proto data\n",
    "\n",
    "You can add more data into the `book0` file created above. In this case, this means you can add more Person to the above `book0` file."
   ]
  },
  {
   "cell_type": "code",
   "execution_count": 3,
   "metadata": {
    "collapsed": false
   },
   "outputs": [
    {
     "name": "stdout",
     "output_type": "stream",
     "text": [
      "Enter person ID number: 111\n",
      "Enter name: Mai\n",
      "Enter email address (blank for none): mai.nguyen@i.love.you\n",
      "Enter a phone number (or leave blank to finish): 123098\n",
      "Is this a mobile, home, or work phone? home\n",
      "Enter a phone number (or leave blank to finish): \n"
     ]
    }
   ],
   "source": [
    "import addressbook_pb2\n",
    "\n",
    "# This function fills in a Person message based on user input.\n",
    "def PromptForAddress(person):\n",
    "  person.id = int(input(\"Enter person ID number: \"))\n",
    "  person.name = input(\"Enter name: \")\n",
    "\n",
    "  email = input(\"Enter email address (blank for none): \")\n",
    "  if email != \"\":\n",
    "    person.email = email\n",
    "\n",
    "  while True:\n",
    "    number = input(\"Enter a phone number (or leave blank to finish): \")\n",
    "    if number == \"\":\n",
    "      break\n",
    "\n",
    "    phone_number = person.phone.add()\n",
    "    phone_number.number = number\n",
    "\n",
    "    type = input(\"Is this a mobile, home, or work phone? \")\n",
    "    if type == \"mobile\":\n",
    "      phone_number.type = addressbook_pb2.Person.MOBILE\n",
    "    elif type == \"home\":\n",
    "      phone_number.type = addressbook_pb2.Person.HOME\n",
    "    elif type == \"work\":\n",
    "      phone_number.type = addressbook_pb2.Person.WORK\n",
    "    else:\n",
    "      print(\"Unknown phone type; leaving as default value.\")\n",
    "\n",
    "address_book = addressbook_pb2.AddressBook()\n",
    "\n",
    "# Read the existing address book.\n",
    "try:\n",
    "  f = open(\"book0\", \"rb\")\n",
    "  address_book.ParseFromString(f.read())\n",
    "  f.close()\n",
    "except IOError:\n",
    "  print(\"Could not open file.  Creating a new one.\")\n",
    "\n",
    "# Add an address.\n",
    "PromptForAddress(address_book.person.add())\n",
    "\n",
    "# Write the new address book back to disk.\n",
    "f = open(\"book0\", \"wb\")\n",
    "f.write(address_book.SerializeToString())\n",
    "f.close()"
   ]
  },
  {
   "cell_type": "markdown",
   "metadata": {},
   "source": [
    "## Read Proto data\n",
    "\n",
    "Load and read Proto data is easy with `[model_name].ParseFromString(data)`. Note that `data` should be in binary format (rather than text format)"
   ]
  },
  {
   "cell_type": "code",
   "execution_count": 4,
   "metadata": {
    "collapsed": false
   },
   "outputs": [
    {
     "name": "stdout",
     "output_type": "stream",
     "text": [
      "Person ID: 1234\n",
      "  Name: John Doe\n",
      "  E-mail address: jdoe@example.com\n",
      "  Home phone #: \n",
      "555-4321\n",
      "Person ID: 111\n",
      "  Name: Mai\n",
      "  E-mail address: mai.nguyen@i.love.you\n",
      "  Home phone #: \n",
      "123098\n"
     ]
    }
   ],
   "source": [
    "import addressbook_pb2\n",
    "\n",
    "# Iterates though all people in the AddressBook and prints info about them.\n",
    "def ListPeople(address_book):\n",
    "  for person in address_book.person:\n",
    "    print(\"Person ID:\", person.id)\n",
    "    print(\"  Name:\", person.name)\n",
    "    if person.HasField('email'):\n",
    "      print(\"  E-mail address:\", person.email)\n",
    "\n",
    "    for phone_number in person.phone:\n",
    "      if phone_number.type == addressbook_pb2.Person.MOBILE:\n",
    "        print(\"  Mobile phone #: \",)\n",
    "      elif phone_number.type == addressbook_pb2.Person.HOME:\n",
    "        print(\"  Home phone #: \",)\n",
    "      elif phone_number.type == addressbook_pb2.Person.WORK:\n",
    "        print(\"  Work phone #: \",)\n",
    "      print(phone_number.number)\n",
    "\n",
    "address_book = addressbook_pb2.AddressBook()\n",
    "\n",
    "# Read the existing address book.\n",
    "f = open(\"book0\", \"rb\")\n",
    "address_book.ParseFromString(f.read())\n",
    "f.close()\n",
    "\n",
    "ListPeople(address_book)"
   ]
  },
  {
   "cell_type": "markdown",
   "metadata": {
    "collapsed": true
   },
   "source": [
    "## Source\n",
    "\n",
    "- [Python API reference](https://developers.google.com/protocol-buffers/docs/reference/python/)\n",
    "- [Python Proto tutorial](https://developers.google.com/protocol-buffers/docs/pythontutorial)"
   ]
  },
  {
   "cell_type": "code",
   "execution_count": null,
   "metadata": {
    "collapsed": true
   },
   "outputs": [],
   "source": []
  }
 ],
 "metadata": {
  "anaconda-cloud": {},
  "kernelspec": {
   "display_name": "Python [conda env:py35]",
   "language": "python",
   "name": "conda-env-py35-py"
  },
  "language_info": {
   "codemirror_mode": {
    "name": "ipython",
    "version": 3
   },
   "file_extension": ".py",
   "mimetype": "text/x-python",
   "name": "python",
   "nbconvert_exporter": "python",
   "pygments_lexer": "ipython3",
   "version": "3.5.2"
  }
 },
 "nbformat": 4,
 "nbformat_minor": 1
}
